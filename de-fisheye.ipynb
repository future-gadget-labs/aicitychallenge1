{
 "cells": [
  {
   "cell_type": "markdown",
   "id": "fe2de018",
   "metadata": {},
   "source": [
    "## importing libraries"
   ]
  },
  {
   "cell_type": "code",
   "execution_count": 1,
   "id": "5f991f2b",
   "metadata": {},
   "outputs": [],
   "source": [
    "from defisheye import Defisheye\n"
   ]
  },
  {
   "cell_type": "code",
   "execution_count": null,
   "id": "cc6aeec4",
   "metadata": {},
   "outputs": [],
   "source": [
    "dtype = 'linear'\n",
    "format = 'fullframe'\n",
    "fov = 180\n",
    "pfov = 120\n",
    "\n"
   ]
  },
  {
   "cell_type": "code",
   "execution_count": 6,
   "id": "fde34512",
   "metadata": {},
   "outputs": [
    {
     "data": {
      "text/plain": [
       "array([[[135, 130, 101],\n",
       "        [136, 131, 102],\n",
       "        [137, 131, 102],\n",
       "        ...,\n",
       "        [255, 254, 243],\n",
       "        [255, 248, 236],\n",
       "        [255, 243, 230]],\n",
       "\n",
       "       [[133, 128,  99],\n",
       "        [134, 129, 100],\n",
       "        [136, 130, 101],\n",
       "        ...,\n",
       "        [255, 253, 244],\n",
       "        [255, 250, 239],\n",
       "        [253, 245, 232]],\n",
       "\n",
       "       [[133, 127,  98],\n",
       "        [133, 128,  99],\n",
       "        [134, 129, 100],\n",
       "        ...,\n",
       "        [255, 252, 243],\n",
       "        [255, 251, 240],\n",
       "        [246, 238, 225]],\n",
       "\n",
       "       ...,\n",
       "\n",
       "       [[ 42,  45,  32],\n",
       "        [ 42,  45,  32],\n",
       "        [ 42,  45,  32],\n",
       "        ...,\n",
       "        [ 88,  91,  74],\n",
       "        [ 88,  91,  74],\n",
       "        [ 88,  91,  74]],\n",
       "\n",
       "       [[ 42,  45,  32],\n",
       "        [ 41,  44,  31],\n",
       "        [ 41,  44,  31],\n",
       "        ...,\n",
       "        [ 88,  91,  74],\n",
       "        [ 88,  91,  74],\n",
       "        [ 88,  91,  74]],\n",
       "\n",
       "       [[ 41,  44,  31],\n",
       "        [ 41,  44,  31],\n",
       "        [ 41,  44,  31],\n",
       "        ...,\n",
       "        [ 88,  91,  74],\n",
       "        [ 88,  91,  74],\n",
       "        [ 88,  91,  74]]], dtype=uint8)"
      ]
     },
     "execution_count": 6,
     "metadata": {},
     "output_type": "execute_result"
    }
   ],
   "source": [
    "img = \"camera.png\"\n",
    "img_out = f\"trial.png\"\n",
    "\n",
    "obj = Defisheye(img, dtype=dtype, format=format, fov=fov, pfov=pfov)\n",
    "\n",
    "# To save image locally \n",
    "obj.convert(outfile=img_out)\n",
    "\n"
   ]
  }
 ],
 "metadata": {
  "kernelspec": {
   "display_name": ".venv",
   "language": "python",
   "name": "python3"
  },
  "language_info": {
   "codemirror_mode": {
    "name": "ipython",
    "version": 3
   },
   "file_extension": ".py",
   "mimetype": "text/x-python",
   "name": "python",
   "nbconvert_exporter": "python",
   "pygments_lexer": "ipython3",
   "version": "3.13.4"
  }
 },
 "nbformat": 4,
 "nbformat_minor": 5
}
